{
 "cells": [
  {
   "cell_type": "code",
   "execution_count": 48,
   "id": "e9503a05-7dab-4a73-ae82-040779553a7a",
   "metadata": {},
   "outputs": [
    {
     "name": "stdout",
     "output_type": "stream",
     "text": [
      "Mon Apr 22 03:42:14 2024       \n",
      "+---------------------------------------------------------------------------------------+\n",
      "| NVIDIA-SMI 530.30.02              Driver Version: 530.30.02    CUDA Version: 12.1     |\n",
      "|-----------------------------------------+----------------------+----------------------+\n",
      "| GPU  Name                  Persistence-M| Bus-Id        Disp.A | Volatile Uncorr. ECC |\n",
      "| Fan  Temp  Perf            Pwr:Usage/Cap|         Memory-Usage | GPU-Util  Compute M. |\n",
      "|                                         |                      |               MIG M. |\n",
      "|=========================================+======================+======================|\n",
      "|   0  NVIDIA A100-SXM4-80GB           Off| 00000000:07:00.0 Off |                    0 |\n",
      "| N/A   66C    P0              410W / 400W|  80636MiB / 81920MiB |    100%      Default |\n",
      "|                                         |                      |             Disabled |\n",
      "+-----------------------------------------+----------------------+----------------------+\n",
      "|   1  NVIDIA A100-SXM4-80GB           Off| 00000000:0F:00.0 Off |                    0 |\n",
      "| N/A   66C    P0              453W / 400W|  64378MiB / 81920MiB |    100%      Default |\n",
      "|                                         |                      |             Disabled |\n",
      "+-----------------------------------------+----------------------+----------------------+\n",
      "|   2  NVIDIA A100-SXM4-80GB           Off| 00000000:47:00.0 Off |                    0 |\n",
      "| N/A   65C    P0              421W / 400W|  53914MiB / 81920MiB |    100%      Default |\n",
      "|                                         |                      |             Disabled |\n",
      "+-----------------------------------------+----------------------+----------------------+\n",
      "|   3  NVIDIA A100-SXM4-80GB           Off| 00000000:4E:00.0 Off |                    0 |\n",
      "| N/A   64C    P0              393W / 400W|  52224MiB / 81920MiB |     99%      Default |\n",
      "|                                         |                      |             Disabled |\n",
      "+-----------------------------------------+----------------------+----------------------+\n",
      "|   4  NVIDIA A100-SXM4-80GB           Off| 00000000:87:00.0 Off |                    0 |\n",
      "| N/A   46C    P0               68W / 400W|      2MiB / 81920MiB |      0%      Default |\n",
      "|                                         |                      |             Disabled |\n",
      "+-----------------------------------------+----------------------+----------------------+\n",
      "|   5  NVIDIA A100-SXM4-80GB           Off| 00000000:90:00.0 Off |                    0 |\n",
      "| N/A   46C    P0               68W / 400W|      2MiB / 81920MiB |      0%      Default |\n",
      "|                                         |                      |             Disabled |\n",
      "+-----------------------------------------+----------------------+----------------------+\n",
      "|   6  NVIDIA A100-SXM4-80GB           Off| 00000000:B7:00.0 Off |                    0 |\n",
      "| N/A   44C    P0               65W / 400W|      2MiB / 81920MiB |      0%      Default |\n",
      "|                                         |                      |             Disabled |\n",
      "+-----------------------------------------+----------------------+----------------------+\n",
      "|   7  NVIDIA A100-SXM4-80GB           Off| 00000000:BD:00.0 Off |                    0 |\n",
      "| N/A   45C    P0               66W / 400W|      2MiB / 81920MiB |      0%      Default |\n",
      "|                                         |                      |             Disabled |\n",
      "+-----------------------------------------+----------------------+----------------------+\n",
      "                                                                                         \n",
      "+---------------------------------------------------------------------------------------+\n",
      "| Processes:                                                                            |\n",
      "|  GPU   GI   CI        PID   Type   Process name                            GPU Memory |\n",
      "|        ID   ID                                                             Usage      |\n",
      "|=======================================================================================|\n",
      "|    0   N/A  N/A    685022      C   /home/minhnh/python_venv/cv/bin/python     2002MiB |\n",
      "|    0   N/A  N/A   2481106      C   python                                    78632MiB |\n",
      "|    1   N/A  N/A   2483857      C   /usr/bin/python                           64376MiB |\n",
      "|    2   N/A  N/A   2483858      C   /usr/bin/python                           53912MiB |\n",
      "|    3   N/A  N/A   2483859      C   /usr/bin/python                           52222MiB |\n",
      "+---------------------------------------------------------------------------------------+\n"
     ]
    }
   ],
   "source": [
    "!nvidia-smi"
   ]
  },
  {
   "cell_type": "code",
   "execution_count": 30,
   "id": "3f09550b-a697-415c-8dfd-5d8347c807a9",
   "metadata": {},
   "outputs": [],
   "source": [
    "import torch\n",
    "import os"
   ]
  },
  {
   "cell_type": "code",
   "execution_count": 31,
   "id": "b0bf9199-afb5-4ed1-8842-4942e0278e5f",
   "metadata": {},
   "outputs": [
    {
     "data": {
      "text/plain": [
       "'/raid/tungks/gttm/reseach'"
      ]
     },
     "execution_count": 31,
     "metadata": {},
     "output_type": "execute_result"
    }
   ],
   "source": [
    "os.getcwd()"
   ]
  },
  {
   "cell_type": "code",
   "execution_count": 32,
   "id": "9a8b8d66-6cc6-443a-8e38-f750206692eb",
   "metadata": {
    "scrolled": true
   },
   "outputs": [],
   "source": [
    "checkpoint = torch.load('../runs/detect/train5/weights/best.pt')\n",
    "model = checkpoint['model'].float()"
   ]
  },
  {
   "cell_type": "code",
   "execution_count": 38,
   "id": "c937087c-621d-4297-ba01-b44731d2dba4",
   "metadata": {},
   "outputs": [
    {
     "data": {
      "text/plain": [
       "dict_keys(['epoch', 'best_fitness', 'model', 'ema', 'updates', 'optimizer', 'train_args', 'train_metrics', 'train_results', 'date', 'version', 'license', 'docs'])"
      ]
     },
     "execution_count": 38,
     "metadata": {},
     "output_type": "execute_result"
    }
   ],
   "source": [
    "checkpoint.keys()"
   ]
  },
  {
   "cell_type": "code",
   "execution_count": 43,
   "id": "dfb992d7-4ee4-47cb-be68-930595b6682f",
   "metadata": {},
   "outputs": [],
   "source": [
    "checkpoint['ema']"
   ]
  },
  {
   "cell_type": "code",
   "execution_count": 15,
   "id": "e45f816c-2428-4745-94b7-bb53bfb84739",
   "metadata": {},
   "outputs": [],
   "source": [
    "from PIL import Image\n",
    "import numpy as np"
   ]
  },
  {
   "cell_type": "code",
   "execution_count": 16,
   "id": "f149139e-0f63-4a7b-b74c-bf342a656c30",
   "metadata": {},
   "outputs": [
    {
     "name": "stdout",
     "output_type": "stream",
     "text": [
      "torch.Size([1, 9, 8400])\n"
     ]
    }
   ],
   "source": [
    "image = Image.open('/home/tungks/shared_drive_cv/GTTMData/external/traffic_camera/train/images/aguanambi-1000_png_jpg.rf.0ab6f274892b9b370e6441886b2d7b9d.jpg')\n",
    "image = np.array(image) \n",
    "image = image / 255.0 \n",
    "image = np.transpose(image, (2, 0, 1))  # Transpose to (channels, height, width)\n",
    "image = np.expand_dims(image, axis=0)  # Add batch dimension\n",
    "image = image.astype(np.float32)\n",
    "\n",
    "input_tensor = torch.from_numpy(image)\n",
    "\n",
    "with torch.no_grad():\n",
    "    output = model(input_tensor)\n",
    "\n",
    "print(output[0].shape)"
   ]
  },
  {
   "cell_type": "markdown",
   "id": "bdbe8a49-4a26-4db0-9fdd-02d83aca82f2",
   "metadata": {},
   "source": [
    "# Inference"
   ]
  },
  {
   "cell_type": "code",
   "execution_count": 1,
   "id": "8d2aaa34-5a79-4c0f-9886-35a49f78084b",
   "metadata": {},
   "outputs": [],
   "source": [
    "from ultralytics import YOLO"
   ]
  },
  {
   "cell_type": "code",
   "execution_count": 2,
   "id": "ea232e90-6545-4fe9-8fc8-13a7b9b070e7",
   "metadata": {},
   "outputs": [],
   "source": [
    "# Load a pretrained YOLOv8n model\n",
    "model = YOLO('yolov8n.pt')\n",
    "\n",
    "# Define path to video file\n",
    "source = '/raid/tungks/shared_drive_cv/GTTMData/external/youtube/videos/nga-tu-so_cutted.mp4'"
   ]
  },
  {
   "cell_type": "code",
   "execution_count": 3,
   "id": "4c754073-3b08-4a9c-9d85-e22a35ab8112",
   "metadata": {},
   "outputs": [
    {
     "data": {
      "text/plain": [
       "<generator object BasePredictor.stream_inference at 0x7fcf676eef90>"
      ]
     },
     "execution_count": 3,
     "metadata": {},
     "output_type": "execute_result"
    }
   ],
   "source": [
    "# Run inference on the source\n",
    "results = model(source, stream=True)\n",
    "results"
   ]
  },
  {
   "cell_type": "code",
   "execution_count": 4,
   "id": "820333ba-6367-401b-94f3-6509300220e5",
   "metadata": {
    "scrolled": true
   },
   "outputs": [
    {
     "name": "stdout",
     "output_type": "stream",
     "text": [
      "\n"
     ]
    },
    {
     "name": "stderr",
     "output_type": "stream",
     "text": [
      "/home/minhnh/python_venv/cv/lib/python3.9/site-packages/tqdm/auto.py:21: TqdmWarning: IProgress not found. Please update jupyter and ipywidgets. See https://ipywidgets.readthedocs.io/en/stable/user_install.html\n",
      "  from .autonotebook import tqdm as notebook_tqdm\n"
     ]
    },
    {
     "name": "stdout",
     "output_type": "stream",
     "text": [
      "video 1/1 (frame 1/12093) /raid/tungks/shared_drive_cv/GTTMData/external/youtube/videos/nga-tu-so_cutted.mp4: 384x640 13 persons, 15 cars, 5 motorcycles, 2 buss, 96.2ms\n",
      "ultralytics.engine.results.Results object with attributes:\n",
      "\n",
      "boxes: ultralytics.engine.results.Boxes object\n",
      "keypoints: None\n",
      "masks: None\n",
      "names: {0: 'person', 1: 'bicycle', 2: 'car', 3: 'motorcycle', 4: 'airplane', 5: 'bus', 6: 'train', 7: 'truck', 8: 'boat', 9: 'traffic light', 10: 'fire hydrant', 11: 'stop sign', 12: 'parking meter', 13: 'bench', 14: 'bird', 15: 'cat', 16: 'dog', 17: 'horse', 18: 'sheep', 19: 'cow', 20: 'elephant', 21: 'bear', 22: 'zebra', 23: 'giraffe', 24: 'backpack', 25: 'umbrella', 26: 'handbag', 27: 'tie', 28: 'suitcase', 29: 'frisbee', 30: 'skis', 31: 'snowboard', 32: 'sports ball', 33: 'kite', 34: 'baseball bat', 35: 'baseball glove', 36: 'skateboard', 37: 'surfboard', 38: 'tennis racket', 39: 'bottle', 40: 'wine glass', 41: 'cup', 42: 'fork', 43: 'knife', 44: 'spoon', 45: 'bowl', 46: 'banana', 47: 'apple', 48: 'sandwich', 49: 'orange', 50: 'broccoli', 51: 'carrot', 52: 'hot dog', 53: 'pizza', 54: 'donut', 55: 'cake', 56: 'chair', 57: 'couch', 58: 'potted plant', 59: 'bed', 60: 'dining table', 61: 'toilet', 62: 'tv', 63: 'laptop', 64: 'mouse', 65: 'remote', 66: 'keyboard', 67: 'cell phone', 68: 'microwave', 69: 'oven', 70: 'toaster', 71: 'sink', 72: 'refrigerator', 73: 'book', 74: 'clock', 75: 'vase', 76: 'scissors', 77: 'teddy bear', 78: 'hair drier', 79: 'toothbrush'}\n",
      "obb: None\n",
      "orig_img: array([[[130,  83,  78],\n",
      "        [130,  83,  78],\n",
      "        [130,  83,  78],\n",
      "        ...,\n",
      "        [120,  90,  77],\n",
      "        [122,  94,  81],\n",
      "        [133, 105,  92]],\n",
      "\n",
      "       [[130,  83,  78],\n",
      "        [130,  83,  78],\n",
      "        [130,  83,  78],\n",
      "        ...,\n",
      "        [120,  90,  77],\n",
      "        [166, 138, 125],\n",
      "        [175, 147, 134]],\n",
      "\n",
      "       [[130,  83,  78],\n",
      "        [130,  83,  78],\n",
      "        [130,  83,  78],\n",
      "        ...,\n",
      "        [153, 133, 130],\n",
      "        [204, 186, 183],\n",
      "        [173, 155, 152]],\n",
      "\n",
      "       ...,\n",
      "\n",
      "       [[ 53,  62,  56],\n",
      "        [ 54,  63,  57],\n",
      "        [ 58,  67,  61],\n",
      "        ...,\n",
      "        [116, 117,  99],\n",
      "        [ 82,  83,  65],\n",
      "        [ 76,  77,  59]],\n",
      "\n",
      "       [[ 40,  49,  43],\n",
      "        [ 41,  50,  44],\n",
      "        [ 48,  57,  51],\n",
      "        ...,\n",
      "        [132, 135, 110],\n",
      "        [127, 129, 108],\n",
      "        [112, 114,  93]],\n",
      "\n",
      "       [[ 54,  63,  57],\n",
      "        [ 54,  63,  57],\n",
      "        [ 50,  59,  53],\n",
      "        ...,\n",
      "        [114, 117,  92],\n",
      "        [136, 138, 117],\n",
      "        [120, 122, 101]]], dtype=uint8)\n",
      "orig_shape: (720, 1280)\n",
      "path: '/raid/tungks/shared_drive_cv/GTTMData/external/youtube/videos/nga-tu-so_cutted.mp4'\n",
      "probs: None\n",
      "save_dir: None\n",
      "speed: {'preprocess': None, 'inference': None, 'postprocess': None}\n"
     ]
    }
   ],
   "source": [
    "for r in results:\n",
    "    print(r[0])\n",
    "    break"
   ]
  },
  {
   "cell_type": "code",
   "execution_count": 3,
   "id": "49207387-bcee-4bca-92eb-70f7d7a3ea91",
   "metadata": {},
   "outputs": [],
   "source": [
    "from ultralytics import YOLO"
   ]
  },
  {
   "cell_type": "code",
   "execution_count": 4,
   "id": "2edfb0bd-8eda-4244-8d16-6790c77bcc84",
   "metadata": {},
   "outputs": [],
   "source": [
    "model = YOLO('yolov8n.pt')"
   ]
  },
  {
   "cell_type": "code",
   "execution_count": 28,
   "id": "bf84b017-7f42-4652-a844-68dd059b5a59",
   "metadata": {
    "scrolled": true
   },
   "outputs": [
    {
     "name": "stdout",
     "output_type": "stream",
     "text": [
      "video capture\n",
      "frame 0 read succeeded\n",
      "predicting\n",
      "\n",
      "0: 384x640 13 persons, 15 cars, 5 motorcycles, 2 buss, 5.5ms\n",
      "Speed: 1.9ms preprocess, 5.5ms inference, 1.1ms postprocess per image at shape (1, 3, 384, 640)\n",
      "frame 1 read succeeded\n",
      "predicting\n",
      "\n",
      "0: 384x640 13 persons, 15 cars, 3 motorcycles, 2 buss, 5.2ms\n",
      "Speed: 1.0ms preprocess, 5.2ms inference, 1.0ms postprocess per image at shape (1, 3, 384, 640)\n",
      "frame 2 read succeeded\n",
      "predicting\n",
      "\n",
      "0: 384x640 15 persons, 16 cars, 3 motorcycles, 2 buss, 5.1ms\n",
      "Speed: 1.0ms preprocess, 5.1ms inference, 1.0ms postprocess per image at shape (1, 3, 384, 640)\n",
      "frame 3 read succeeded\n",
      "predicting\n",
      "\n",
      "0: 384x640 14 persons, 14 cars, 3 motorcycles, 2 buss, 5.3ms\n",
      "Speed: 1.1ms preprocess, 5.3ms inference, 1.0ms postprocess per image at shape (1, 3, 384, 640)\n",
      "frame 4 read succeeded\n",
      "predicting\n",
      "\n",
      "0: 384x640 13 persons, 14 cars, 2 motorcycles, 2 buss, 5.3ms\n",
      "Speed: 1.0ms preprocess, 5.3ms inference, 1.0ms postprocess per image at shape (1, 3, 384, 640)\n",
      "frame 5 read succeeded\n",
      "predicting\n",
      "\n",
      "0: 384x640 13 persons, 14 cars, 2 motorcycles, 2 buss, 5.2ms\n",
      "Speed: 1.0ms preprocess, 5.2ms inference, 1.0ms postprocess per image at shape (1, 3, 384, 640)\n",
      "frame 6 read succeeded\n",
      "predicting\n",
      "\n",
      "0: 384x640 13 persons, 15 cars, 3 motorcycles, 2 buss, 5.2ms\n",
      "Speed: 1.0ms preprocess, 5.2ms inference, 1.0ms postprocess per image at shape (1, 3, 384, 640)\n",
      "frame 7 read succeeded\n",
      "predicting\n",
      "\n",
      "0: 384x640 11 persons, 15 cars, 3 motorcycles, 2 buss, 5.3ms\n",
      "Speed: 1.0ms preprocess, 5.3ms inference, 1.0ms postprocess per image at shape (1, 3, 384, 640)\n",
      "frame 8 read succeeded\n",
      "predicting\n",
      "\n",
      "0: 384x640 11 persons, 15 cars, 3 motorcycles, 2 buss, 5.2ms\n",
      "Speed: 1.0ms preprocess, 5.2ms inference, 1.0ms postprocess per image at shape (1, 3, 384, 640)\n",
      "frame 9 read succeeded\n",
      "predicting\n",
      "\n",
      "0: 384x640 11 persons, 15 cars, 2 motorcycles, 2 buss, 5.4ms\n",
      "Speed: 1.0ms preprocess, 5.4ms inference, 1.0ms postprocess per image at shape (1, 3, 384, 640)\n",
      "frame 10 read succeeded\n",
      "predicting\n",
      "\n",
      "0: 384x640 12 persons, 15 cars, 3 motorcycles, 1 bus, 5.2ms\n",
      "Speed: 1.0ms preprocess, 5.2ms inference, 1.0ms postprocess per image at shape (1, 3, 384, 640)\n",
      "frame 11 read succeeded\n",
      "predicting\n",
      "\n",
      "0: 384x640 12 persons, 16 cars, 2 motorcycles, 1 bus, 5.3ms\n",
      "Speed: 1.0ms preprocess, 5.3ms inference, 1.0ms postprocess per image at shape (1, 3, 384, 640)\n",
      "frame 12 read succeeded\n",
      "predicting\n",
      "\n",
      "0: 384x640 13 persons, 16 cars, 2 motorcycles, 1 bus, 5.2ms\n",
      "Speed: 1.0ms preprocess, 5.2ms inference, 1.0ms postprocess per image at shape (1, 3, 384, 640)\n",
      "frame 13 read succeeded\n",
      "predicting\n",
      "\n",
      "0: 384x640 13 persons, 17 cars, 3 motorcycles, 2 buss, 5.3ms\n",
      "Speed: 1.0ms preprocess, 5.3ms inference, 1.0ms postprocess per image at shape (1, 3, 384, 640)\n",
      "frame 14 read succeeded\n",
      "predicting\n",
      "\n",
      "0: 384x640 11 persons, 18 cars, 5 motorcycles, 1 bus, 5.1ms\n",
      "Speed: 1.0ms preprocess, 5.1ms inference, 1.0ms postprocess per image at shape (1, 3, 384, 640)\n",
      "frame 15 read succeeded\n",
      "predicting\n",
      "\n",
      "0: 384x640 11 persons, 18 cars, 4 motorcycles, 1 bus, 1 truck, 5.3ms\n",
      "Speed: 1.0ms preprocess, 5.3ms inference, 1.0ms postprocess per image at shape (1, 3, 384, 640)\n",
      "frame 16 read succeeded\n",
      "predicting\n",
      "\n",
      "0: 384x640 12 persons, 19 cars, 4 motorcycles, 1 bus, 5.3ms\n",
      "Speed: 1.0ms preprocess, 5.3ms inference, 1.0ms postprocess per image at shape (1, 3, 384, 640)\n",
      "frame 17 read succeeded\n",
      "predicting\n",
      "\n",
      "0: 384x640 13 persons, 18 cars, 3 motorcycles, 1 bus, 5.1ms\n",
      "Speed: 1.0ms preprocess, 5.1ms inference, 1.0ms postprocess per image at shape (1, 3, 384, 640)\n",
      "frame 18 read succeeded\n",
      "predicting\n",
      "\n",
      "0: 384x640 14 persons, 20 cars, 5 motorcycles, 1 bus, 1 truck, 5.1ms\n",
      "Speed: 1.0ms preprocess, 5.1ms inference, 1.0ms postprocess per image at shape (1, 3, 384, 640)\n",
      "frame 19 read succeeded\n",
      "predicting\n",
      "\n",
      "0: 384x640 13 persons, 21 cars, 3 motorcycles, 1 bus, 1 truck, 5.3ms\n",
      "Speed: 1.0ms preprocess, 5.3ms inference, 1.0ms postprocess per image at shape (1, 3, 384, 640)\n",
      "frame 20 read succeeded\n",
      "predicting\n",
      "\n",
      "0: 384x640 12 persons, 19 cars, 3 motorcycles, 1 bus, 1 truck, 5.1ms\n",
      "Speed: 1.0ms preprocess, 5.1ms inference, 1.0ms postprocess per image at shape (1, 3, 384, 640)\n",
      "tensor([[0.0000e+00, 6.1258e+02, 6.1853e+02,  ..., 7.1939e+02, 8.9658e-01, 2.0000e+00],\n",
      "        [0.0000e+00, 8.1291e+02, 4.8729e+02,  ..., 5.9863e+02, 8.1116e-01, 2.0000e+00],\n",
      "        [0.0000e+00, 7.0963e+02, 5.1519e+02,  ..., 6.5955e+02, 8.0754e-01, 2.0000e+00],\n",
      "        ...,\n",
      "        [2.0000e+01, 1.0240e+03, 2.7922e+02,  ..., 3.1335e+02, 2.8361e-01, 2.0000e+00],\n",
      "        [2.0000e+01, 1.2334e+03, 3.5734e+02,  ..., 3.9853e+02, 2.8268e-01, 2.0000e+00],\n",
      "        [2.0000e+01, 9.9365e+02, 5.1800e+02,  ..., 6.8353e+02, 2.5574e-01, 7.0000e+00]], device='cuda:0')\n"
     ]
    }
   ],
   "source": [
    "import cv2\n",
    "\n",
    "video_path = '/raid/tungks/shared_drive_cv/GTTMData/external/youtube/videos/nga-tu-so_cutted.mp4'\n",
    "cap = cv2.VideoCapture(video_path)\n",
    "print('video capture')\n",
    "i = 0\n",
    "\n",
    "while cap.isOpened():\n",
    "    if i > 20:\n",
    "        break\n",
    "    success, frame = cap.read()\n",
    "   \n",
    "    if success:\n",
    "        print(f'frame {i} read succeeded')\n",
    "        cv2.imwrite(f'my_video_frame_{i}.png', frame)\n",
    "        print('predicting')\n",
    "        results = model.predict(frame)\n",
    "\n",
    "        tensor = results[0].boxes.data\n",
    "        zeros_column = torch.zeros(tensor.shape[0], 1, device=tensor.device)\n",
    "        zeros_column.fill_(i)\n",
    "        new_tensor = torch.cat((zeros_column, tensor), dim=1)\n",
    "        if i == 0:\n",
    "            stacked_tensor = new_tensor\n",
    "        else:\n",
    "            stacked_tensor = torch.cat((stacked_tensor, new_tensor), dim=0)\n",
    "        \n",
    "        i += 1\n",
    "\n",
    "print(stacked_tensor)"
   ]
  },
  {
   "cell_type": "code",
   "execution_count": 27,
   "id": "3fca9aa2-1697-4e1e-a4f5-1c68b0cd0704",
   "metadata": {},
   "outputs": [
    {
     "data": {
      "text/plain": [
       "torch.Size([199, 7])"
      ]
     },
     "execution_count": 27,
     "metadata": {},
     "output_type": "execute_result"
    }
   ],
   "source": [
    "stacked_tensor.shape"
   ]
  },
  {
   "cell_type": "markdown",
   "id": "9b924011-737b-4c4f-a025-0099590c9fb2",
   "metadata": {},
   "source": [
    "# Test"
   ]
  },
  {
   "cell_type": "code",
   "execution_count": null,
   "id": "019e52ba-44c9-4424-a7e6-6baa65f8e7ab",
   "metadata": {},
   "outputs": [],
   "source": [
    "model = YOLO('yolov8n.pt')\n",
    "results = model.train(data='coco8.yaml', epochs=100, imgsz=640)"
   ]
  },
  {
   "cell_type": "code",
   "execution_count": 1,
   "id": "2e274177",
   "metadata": {},
   "outputs": [
    {
     "name": "stdout",
     "output_type": "stream",
     "text": [
      "yaml\n"
     ]
    }
   ],
   "source": [
    "import os\n",
    "\n",
    "def check_file_suffix(file_path):\n",
    "    # Get the file extension\n",
    "    _, file_extension = os.path.splitext(file_path)\n",
    "\n",
    "    # Check the file extension\n",
    "    if file_extension == \".pt\":\n",
    "        print(\".pt\")\n",
    "    elif file_extension in [\".yaml\", \".yml\"]:\n",
    "        print(\"yaml\")\n",
    "    else:\n",
    "        print(\"Unknown suffix\")\n",
    "\n",
    "# Example usage\n",
    "file_path = \"usr/test/python/readme.yaml\"\n",
    "check_file_suffix(file_path)"
   ]
  }
 ],
 "metadata": {
  "kernelspec": {
   "display_name": ".venv",
   "language": "python",
   "name": "python3"
  },
  "language_info": {
   "codemirror_mode": {
    "name": "ipython",
    "version": 3
   },
   "file_extension": ".py",
   "mimetype": "text/x-python",
   "name": "python",
   "nbconvert_exporter": "python",
   "pygments_lexer": "ipython3",
   "version": "3.9.6"
  }
 },
 "nbformat": 4,
 "nbformat_minor": 5
}
